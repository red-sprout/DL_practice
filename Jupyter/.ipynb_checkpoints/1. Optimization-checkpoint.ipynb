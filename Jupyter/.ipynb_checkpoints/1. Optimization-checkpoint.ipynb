{
 "cells": [
  {
   "cell_type": "code",
   "execution_count": 1,
   "id": "c98e3843",
   "metadata": {},
   "outputs": [
    {
     "name": "stdout",
     "output_type": "stream",
     "text": [
      "[[2.99999147]\n",
      " [2.99999147]]\n"
     ]
    }
   ],
   "source": [
    "import numpy as np\n",
    "\n",
    "H = np.matrix([[2,0],[0,2]])\n",
    "g = -np.matrix([[6],[6]])\n",
    "\n",
    "x = np.zeros((2,1))\n",
    "alpha = 0.2\n",
    "\n",
    "for i in range(25):\n",
    "    df = H*x + g\n",
    "    x = x - alpha*df\n",
    "\n",
    "print(x)"
   ]
  },
  {
   "cell_type": "code",
   "execution_count": 2,
   "id": "d0710d71",
   "metadata": {},
   "outputs": [
    {
     "name": "stdout",
     "output_type": "stream",
     "text": [
      "[[7.93857474e+26]\n",
      " [7.93857474e+26]]\n"
     ]
    }
   ],
   "source": [
    "alpha = 10\n",
    "\n",
    "for i in range(25):\n",
    "    df = H*x + g\n",
    "    x = x - alpha*df\n",
    "\n",
    "print(x)"
   ]
  }
 ],
 "metadata": {
  "kernelspec": {
   "display_name": "Python 3 (ipykernel)",
   "language": "python",
   "name": "python3"
  },
  "language_info": {
   "codemirror_mode": {
    "name": "ipython",
    "version": 3
   },
   "file_extension": ".py",
   "mimetype": "text/x-python",
   "name": "python",
   "nbconvert_exporter": "python",
   "pygments_lexer": "ipython3",
   "version": "3.9.7"
  }
 },
 "nbformat": 4,
 "nbformat_minor": 5
}
